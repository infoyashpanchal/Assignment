{
 "metadata": {
  "language_info": {
   "codemirror_mode": {
    "name": "ipython",
    "version": 3
   },
   "file_extension": ".py",
   "mimetype": "text/x-python",
   "name": "python",
   "nbconvert_exporter": "python",
   "pygments_lexer": "ipython3",
   "version": "3.8.2-final"
  },
  "orig_nbformat": 2
 },
 "nbformat": 4,
 "nbformat_minor": 2,
 "cells": [
  {
   "source": [
    "Q1) Create the below pattern using nested for loop in Python. <br>\n",
    "\n",
    "##### *\n",
    "##### * *\n",
    "##### * * *\n",
    "##### * * * *\n",
    "##### * * * * *\n",
    "##### * * * *\n",
    "##### * * *\n",
    "##### * *\n",
    "##### *\n"
   ],
   "cell_type": "markdown",
   "metadata": {}
  },
  {
   "cell_type": "code",
   "execution_count": 10,
   "metadata": {
    "tags": []
   },
   "outputs": [
    {
     "output_type": "stream",
     "name": "stdout",
     "text": "\n\n*\n\n**\n\n***\n\n****\n\n*****\n\n****\n\n***\n\n**\n\n*\n\n"
    }
   ],
   "source": [
    "x = int(input('enter the number'))\n",
    "for i in range(x):\n",
    "    for j in range(i):\n",
    "        print('*', end=(''))\n",
    "    print(\"\\n\")\n",
    "for i in range(x,0,-1):\n",
    "    for j in range(i,0,-1):\n",
    "        print(\"*\", end=(''))\n",
    "    print('\\n')"
   ]
  },
  {
   "source": [
    "Q2) Write a Python program to reverse a word after accepting the input from the user. <br>\n",
    "Sample Output: <br>\n",
    "Input word: ineuron <br>\n",
    "Output: norueni"
   ],
   "cell_type": "markdown",
   "metadata": {}
  },
  {
   "cell_type": "code",
   "execution_count": 19,
   "metadata": {
    "tags": []
   },
   "outputs": [
    {
     "output_type": "stream",
     "name": "stdout",
     "text": "hsay"
    }
   ],
   "source": [
    "word = input(\"Enter a Word to be reversed: \")\n",
    "for i in range(len(word)-1,-1,-1):\n",
    "    print(word[i], end=(\"\"))"
   ]
  },
  {
   "cell_type": "code",
   "execution_count": null,
   "metadata": {},
   "outputs": [],
   "source": []
  }
 ]
}