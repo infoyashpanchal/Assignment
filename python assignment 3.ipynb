{
 "cells": [
  {
   "cell_type": "markdown",
   "metadata": {},
   "source": [
    "Q1.1) Write a Python Program to implement your own myreduce() function which works exactly like Python's built-in function reduce()"
   ]
  },
  {
   "cell_type": "code",
   "execution_count": 1,
   "metadata": {},
   "outputs": [
    {
     "name": "stdout",
     "output_type": "stream",
     "text": [
      "My Reduce Output is: 14400\n"
     ]
    }
   ],
   "source": [
    "def myreduce(func, values):\n",
    "    result = values[0]\n",
    "    for i in values[1:]:\n",
    "        result = func(result, i)\n",
    "    return result\n",
    "\n",
    "def func(a, b):\n",
    "    return a * b\n",
    "\n",
    "l = [2,5,6,1,8,3,10]\n",
    "print(f\"My Reduce Output is: {myreduce(func, l)}\")"
   ]
  },
  {
   "cell_type": "markdown",
   "metadata": {},
   "source": [
    "Q1.2) Write a Python program to implement your own myfilter() function which works exactly like Python's built-in function filter()"
   ]
  },
  {
   "cell_type": "code",
   "execution_count": 2,
   "metadata": {},
   "outputs": [
    {
     "name": "stdout",
     "output_type": "stream",
     "text": [
      "My Filter Output is: [15, 60]\n"
     ]
    }
   ],
   "source": [
    "def myfilter(fun, values):\n",
    "    result = list()\n",
    "    for i in values:\n",
    "        if fun(i):\n",
    "            result.append(i)\n",
    "    return result\n",
    "\n",
    "def fun(x):\n",
    "    if x % 5 == 0:\n",
    "        return True\n",
    "    else:\n",
    "        return False\n",
    "\n",
    "lst = [12, 15, 60, 34, 53]\n",
    "print(f\"My Filter Output is: {myfilter(fun, lst)}\")"
   ]
  },
  {
   "cell_type": "markdown",
   "metadata": {},
   "source": [
    "Q2) Implement List comprehensions to produce the following lists.\n",
    "Write List comprehensions to produce the following Lists <br> \n",
    "<blockquote> ['A', 'C', 'A', 'D', 'G', 'I', ’L’, ‘ D’] <br><br>\n",
    "['x', 'xx', 'xxx', 'xxxx', 'y', 'yy', 'yyy', 'yyyy', 'z', 'zz', 'zzz', 'zzzz'] <br><br>\n",
    "['x', 'y', 'z', 'xx', 'yy', 'zz', 'xxx', 'yyy', 'zzz', 'xxxx', 'yyyy', 'zzzz'] <br> <br>\n",
    "[[2], [3], [4], [3], [4], [5], [4], [5], [6]]<br> \n",
    "[[2, 3, 4, 5], [3, 4, 5, 6], [4, 5, 6, 7], [5, 6, 7, 8]] <br><br>\n",
    "[(1, 1), (2, 1), (3, 1), (1, 2), (2, 2), (3, 2), (1, 3), (2, 3), (3, 3)] <blockquote>"
   ]
  },
  {
   "cell_type": "code",
   "execution_count": 2,
   "metadata": {},
   "outputs": [
    {
     "name": "stdout",
     "output_type": "stream",
     "text": [
      "['A', 'C', 'A', 'D', 'G', 'I', 'L', 'D']\n"
     ]
    }
   ],
   "source": [
    "word = \"ACADGILD\"\n",
    "output = [letter for letter in word]\n",
    "print(str(output))"
   ]
  },
  {
   "cell_type": "code",
   "execution_count": 4,
   "metadata": {},
   "outputs": [
    {
     "name": "stdout",
     "output_type": "stream",
     "text": [
      "['x', 'xx', 'xxx', 'xxxx', 'y', 'yy', 'yyy', 'yyyy', 'z', 'zz', 'zzz', 'zzzz']\n"
     ]
    }
   ],
   "source": [
    "alpha = ['x','y','z']\n",
    "alpha_output = [item*num for item in alpha for num in range(1,5)]\n",
    "print(alpha_output)"
   ]
  },
  {
   "cell_type": "code",
   "execution_count": 5,
   "metadata": {},
   "outputs": [
    {
     "name": "stdout",
     "output_type": "stream",
     "text": [
      "['x', 'y', 'z', 'xx', 'yy', 'zz', 'xxx', 'yyy', 'zzz', 'xxxx', 'yyyy', 'zzzz']\n"
     ]
    }
   ],
   "source": [
    "alpha2 = ['x','y','z']\n",
    "alpha2_output = [item*num for num in range(1,5) for item in alpha]\n",
    "print(alpha2_output)"
   ]
  },
  {
   "cell_type": "code",
   "execution_count": 9,
   "metadata": {},
   "outputs": [
    {
     "name": "stdout",
     "output_type": "stream",
     "text": [
      "[[2], [3], [4], [3], [4], [5], [4], [5], [6]]\n"
     ]
    }
   ],
   "source": [
    "list = [2,3,4]\n",
    "list_output = [[item+num] for num in range(0,3) for item in list]\n",
    "print(list_output)"
   ]
  },
  {
   "cell_type": "code",
   "execution_count": 17,
   "metadata": {},
   "outputs": [
    {
     "name": "stdout",
     "output_type": "stream",
     "text": [
      "[[2, 3, 4, 5], [3, 4, 5, 6], [4, 5, 6, 7], [5, 6, 7, 8], [6, 7, 8, 9]]\n"
     ]
    }
   ],
   "source": [
    "list2 = [2,3,4,5]\n",
    "list2_output = [[item+num for item in list2] for num in range(0,5)]\n",
    "print(list2_output)"
   ]
  },
  {
   "cell_type": "code",
   "execution_count": 18,
   "metadata": {},
   "outputs": [
    {
     "name": "stdout",
     "output_type": "stream",
     "text": [
      "[(1, 1), (2, 1), (3, 1), (1, 2), (2, 2), (3, 2), (1, 3), (2, 3), (3, 3)]\n"
     ]
    }
   ],
   "source": [
    "list3 = [1,2,3]\n",
    "list3_output = [(a,b) for b in list3 for a in list3]\n",
    "print(list3_output)"
   ]
  },
  {
   "cell_type": "code",
   "execution_count": null,
   "metadata": {},
   "outputs": [],
   "source": []
  }
 ],
 "metadata": {
  "kernelspec": {
   "display_name": "Python 3",
   "language": "python",
   "name": "python3"
  },
  "language_info": {
   "codemirror_mode": {
    "name": "ipython",
    "version": 3
   },
   "file_extension": ".py",
   "mimetype": "text/x-python",
   "name": "python",
   "nbconvert_exporter": "python",
   "pygments_lexer": "ipython3",
   "version": "3.8.5"
  }
 },
 "nbformat": 4,
 "nbformat_minor": 2
}
