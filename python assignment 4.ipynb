{
 "cells": [
  {
   "cell_type": "markdown",
   "metadata": {},
   "source": [
    "Q1.1) Write a Python Program(with class concepts) to find the area of the triangle using the below formula. <br>\n",
    "area = (s*(s-a)*(s-b)*(s-c)) ** 0.5 <br>\n",
    "Function to take the length of the sides of triangle from user should be defined in the parent class and function to calculate the area should be defined in subclass.\n"
   ]
  },
  {
   "cell_type": "code",
   "execution_count": 17,
   "metadata": {},
   "outputs": [
    {
     "name": "stdout",
     "output_type": "stream",
     "text": [
      "The area of the Triangle is 6.0\n"
     ]
    }
   ],
   "source": [
    "class polygon:\n",
    "    def __init__(self, a, b, c):\n",
    "        self.a = a\n",
    "        self.b = b\n",
    "        self.c = c\n",
    "class triangle(polygon):\n",
    "    def __init__(self, a, b, c):\n",
    "        super().__init__(a, b, c)\n",
    "    def area(self):\n",
    "        s = (a + b + c) / 2\n",
    "        return (s*(s-a)*(s-b)*(s-c)) ** 0.5\n",
    "        \n",
    "a = float(input(\"Enter side one: \"))\n",
    "b = float(input(\"Enter side two: \"))\n",
    "c = float(input(\"Enter side three: \"))\n",
    "t = triangle(a, b, c)\n",
    "print(\"The area of the Triangle is {}\".format(t.area()))"
   ]
  },
  {
   "cell_type": "markdown",
   "metadata": {},
   "source": [
    "Q1.2) Write a function filter_long_words() that takes a list of words and an integer n and returns the list of words that are longer than n.\n"
   ]
  },
  {
   "cell_type": "code",
   "execution_count": 3,
   "metadata": {},
   "outputs": [
    {
     "name": "stdout",
     "output_type": "stream",
     "text": [
      "Do you want to enter a word in the list? (y/n): y\n",
      "Enter the word: Yash\n",
      "Do you want to add some more words? (y/n): y\n",
      "Enter the word: Hiral\n",
      "Do you want to add some more words? (y/n): y\n",
      "Enter the word: Bhakti\n",
      "Do you want to add some more words? (y/n): y\n",
      "Enter the word: Pujan\n",
      "Do you want to add some more words? (y/n): y\n",
      "Enter the word: Purvang\n",
      "Do you want to add some more words? (y/n): y\n",
      "Enter the word: Pal\n",
      "Do you want to add some more words? (y/n): n\n",
      "enter a number4\n",
      "['Yash', 'Hiral', 'Bhakti', 'Pujan', 'Purvang', 'Pal'] ==> ['Hiral', 'Bhakti', 'Pujan', 'Purvang']\n"
     ]
    }
   ],
   "source": [
    "list_words = []\n",
    "\n",
    "def filter_long_words(x):\n",
    "    result = []\n",
    "    n = int(input(\"enter a number\"))\n",
    "    for i in x:\n",
    "        if len(i) > n:\n",
    "            result.append(i)\n",
    "    return result\n",
    "            \n",
    "reply = input(\"Do you want to enter a word in the list? (y/n): \")\n",
    "while reply == 'y':\n",
    "    word = input(\"Enter the word: \")\n",
    "    list_words.append(word)\n",
    "    reply = input(\"Do you want to add some more words? (y/n): \")\n",
    "    \n",
    "print(\"{} ==> {}\".format(list_words, filter_long_words(list_words)))"
   ]
  },
  {
   "cell_type": "markdown",
   "metadata": {},
   "source": [
    "Q2.1) Write a Python program using function concept that maps list of words into a list of integers representing the lengths of the corresponding words. <br>\n",
    "Hint: If a list [[ab,cde,erty]] is passed on to the python function output should come as [[2,3,4]] <br>\n",
    "Here 2,3 and 4 are the lengths of the words in the list.\n"
   ]
  },
  {
   "cell_type": "code",
   "execution_count": 4,
   "metadata": {},
   "outputs": [
    {
     "name": "stdout",
     "output_type": "stream",
     "text": [
      "Do you want to enter a word in the list? (y/n): y\n",
      "Enter the word: Yash\n",
      "Do you want to add some more words? (y/n): y\n",
      "Enter the word: Hiral\n",
      "Do you want to add some more words? (y/n): y\n",
      "Enter the word: Bhakti\n",
      "Do you want to add some more words? (y/n): y\n",
      "Enter the word: Pujan\n",
      "Do you want to add some more words? (y/n): n\n",
      "['Yash', 'Hiral', 'Bhakti', 'Pujan'] --> [4, 5, 6, 5]\n"
     ]
    }
   ],
   "source": [
    "\n",
    "list_num = []\n",
    "list_words = []\n",
    "\n",
    "def words_num(list_words):\n",
    "    for i in list_words:\n",
    "        list_num.append(len(i))\n",
    "    print(\"{} --> {}\".format(list_words, list_num))\n",
    "\n",
    "reply = input(\"Do you want to enter a word in the list? (y/n): \")\n",
    "while reply == 'y':\n",
    "    word = input(\"Enter the word: \")\n",
    "    list_words.append(word)\n",
    "    reply = input(\"Do you want to add some more words? (y/n): \")\n",
    "\n",
    "words_num(list_words)"
   ]
  },
  {
   "cell_type": "markdown",
   "metadata": {},
   "source": [
    "Q2.2) Write a Python function which takes a character (i.e. a string of length 1) and returns True if it is a vowel, False otherwise."
   ]
  },
  {
   "cell_type": "code",
   "execution_count": 7,
   "metadata": {},
   "outputs": [
    {
     "name": "stdout",
     "output_type": "stream",
     "text": [
      "Enter a Character: H\n"
     ]
    },
    {
     "data": {
      "text/plain": [
       "False"
      ]
     },
     "execution_count": 7,
     "metadata": {},
     "output_type": "execute_result"
    }
   ],
   "source": [
    "def vowel(x):\n",
    "    if x in 'aeiouAEIOU':\n",
    "        return True\n",
    "    else:\n",
    "        return False\n",
    "\n",
    "x = input(\"Enter a Character: \")\n",
    "vowel(x)"
   ]
  },
  {
   "cell_type": "code",
   "execution_count": null,
   "metadata": {},
   "outputs": [],
   "source": []
  }
 ],
 "metadata": {
  "kernelspec": {
   "display_name": "Python 3",
   "language": "python",
   "name": "python3"
  },
  "language_info": {
   "codemirror_mode": {
    "name": "ipython",
    "version": 3
   },
   "file_extension": ".py",
   "mimetype": "text/x-python",
   "name": "python",
   "nbconvert_exporter": "python",
   "pygments_lexer": "ipython3",
   "version": "3.8.5"
  }
 },
 "nbformat": 4,
 "nbformat_minor": 2
}
