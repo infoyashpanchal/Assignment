{
 "cells": [
  {
   "cell_type": "markdown",
   "metadata": {},
   "source": [
    "### Problem Statement 1:\n",
    "Write a function so that the columns of the output matrix are powers of the input\n",
    "vector.<br>\n",
    "The order of the powers is determined by the increasing boolean argument. Specifically, when\n",
    "increasing is False, the i-th output column is the input vector raised element-wise to the power\n",
    "of N - i - 1.<br>\n",
    "HINT: Such a matrix with a geometric progression in each row is named for AlexandreTheophile Vandermonde.\n"
   ]
  },
  {
   "cell_type": "code",
   "execution_count": 23,
   "metadata": {},
   "outputs": [
    {
     "name": "stdout",
     "output_type": "stream",
     "text": [
      "Do you want to enter a number in the list? (y/n): y\n",
      "Enter the number: 2\n",
      "Do you want to add some more numbers? (y/n): y\n",
      "Enter the number: 4\n",
      "Do you want to add some more numbers? (y/n): y\n",
      "Enter the number: 6\n",
      "Do you want to add some more numbers? (y/n): y\n",
      "Enter the number: 8\n",
      "Do you want to add some more numbers? (y/n): y\n",
      "Enter the number: 10\n",
      "Do you want to add some more numbers? (y/n): n\n",
      "[ 2  4  6  8 10]\n",
      "Do you want the matrix in increasing order? (y/n): y\n",
      "True\n"
     ]
    },
    {
     "data": {
      "text/plain": [
       "array([[    1,     2,     4,     8,    16],\n",
       "       [    1,     4,    16,    64,   256],\n",
       "       [    1,     6,    36,   216,  1296],\n",
       "       [    1,     8,    64,   512,  4096],\n",
       "       [    1,    10,   100,  1000, 10000]])"
      ]
     },
     "execution_count": 23,
     "metadata": {},
     "output_type": "execute_result"
    }
   ],
   "source": [
    "import numpy as np\n",
    "list_input = []\n",
    "increasing = bool\n",
    "\n",
    "# defining function\n",
    "def alexandre_theophile_vandermonde(x,order):\n",
    "    N = x.size\n",
    "    if order == True:\n",
    "        return np.flip(np.column_stack([x**(N-1-i) for i in range(N)]), axis = 1)\n",
    "    elif order == False:\n",
    "        return np.column_stack([x**(N-1-i) for i in range(N)])\n",
    "\n",
    "# taking input into a numpy array:\n",
    "reply1 = input(\"Do you want to enter a number in the list? (y/n): \")\n",
    "while reply1 == 'y':\n",
    "    num = int(input(\"Enter the number: \"))\n",
    "    list_input.append(num)\n",
    "    reply1 = input(\"Do you want to add some more numbers? (y/n): \")\n",
    "list_input = np.array(list_input)\n",
    "print(list_input)\n",
    "\n",
    "# taking input for the order of the matrix\n",
    "reply2 = input(\"Do you want the matrix in increasing order? (y/n): \")\n",
    "if reply2 == 'y':\n",
    "    increasing = True\n",
    "else:\n",
    "    increasing = False\n",
    "print(increasing)\n",
    "\n",
    "# execution of the function\n",
    "alexandre_theophile_vandermonde(list_input, increasing)\n"
   ]
  },
  {
   "cell_type": "markdown",
   "metadata": {},
   "source": [
    "### Problem Statement 2:\n",
    "Given a sequence of n values x1, x2, ..., xn and a window size k>0, the k-th moving average of\n",
    "the given sequence is defined as follows:<br>\n",
    "The moving average sequence has n-k+1 elements as shown below.<br>\n",
    "The moving averages with k=4 of a ten-value sequence (n=10) is shown below\n",
    "<br>i 1 2 3 4 5 6 7 8 9 10\n",
    "<br>===== == == == == == == == == == ==\n",
    "<br>Input 10 20 30 40 50 60 70 80 90 100\n",
    "<br>y1 25 = (10+20+30+40)/4\n",
    "<br>y2 35 = (20+30+40+50)/4\n",
    "<br>y3 45 = (30+40+50+60)/4\n",
    "<br>y4 55 = (40+50+60+70)/4\n",
    "<br>y5 65 = (50+60+70+80)/4\n",
    "<br>y6 75 = (60+70+80+90)/4\n",
    "<br>y7 85 = (70+80+90+100)/4\n",
    "<br>Thus, the moving average sequence has n-k+1=10-4+1=7 values.\n",
    "<br>\n",
    "### Question: Write a function to find moving average in an array over a window:\n",
    "Test it over [3, 5, 7, 2, 8, 10, 11, 65, 72, 81, 99, 100, 150] and window of 3.\n",
    "<br>Note: Solution submitted via github must contain all the detailed steps."
   ]
  },
  {
   "cell_type": "code",
   "execution_count": 37,
   "metadata": {},
   "outputs": [
    {
     "data": {
      "text/plain": [
       "array([  5.   ,   4.667,   5.667,   6.667,   9.667,  28.667,  49.333,\n",
       "        72.667,  84.   ,  93.333, 116.333])"
      ]
     },
     "execution_count": 37,
     "metadata": {},
     "output_type": "execute_result"
    }
   ],
   "source": [
    "import numpy as np\n",
    "dataset = [3, 5, 7, 2, 8, 10, 11, 65, 72, 81, 99, 100, 150]\n",
    "\n",
    "def movingaverage(a, n=3):\n",
    "    # we use np.cumsum to get cumulative sum of the num\n",
    "    asum = np.cumsum(a, dtype=float)\n",
    "    # we are breaking the array as per desired number is 'n'\n",
    "    # and substracting elements to get the desired result\n",
    "    asum[n:] = asum[n:] - asum[:-n]\n",
    "    return asum[n-1:]/n\n",
    "a = np.array(dataset)\n",
    "np.array(movingaverage(a,n=3)).round(3)\n"
   ]
  },
  {
   "cell_type": "code",
   "execution_count": null,
   "metadata": {},
   "outputs": [],
   "source": []
  },
  {
   "cell_type": "code",
   "execution_count": null,
   "metadata": {},
   "outputs": [],
   "source": []
  }
 ],
 "metadata": {
  "kernelspec": {
   "display_name": "Python 3",
   "language": "python",
   "name": "python3"
  },
  "language_info": {
   "codemirror_mode": {
    "name": "ipython",
    "version": 3
   },
   "file_extension": ".py",
   "mimetype": "text/x-python",
   "name": "python",
   "nbconvert_exporter": "python",
   "pygments_lexer": "ipython3",
   "version": "3.8.5"
  }
 },
 "nbformat": 4,
 "nbformat_minor": 4
}
