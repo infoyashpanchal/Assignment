{
 "cells": [
  {
   "cell_type": "code",
   "execution_count": 1,
   "metadata": {},
   "outputs": [],
   "source": [
    "import pandas as pd\n",
    "import numpy as np"
   ]
  },
  {
   "cell_type": "code",
   "execution_count": 2,
   "metadata": {
    "tags": []
   },
   "outputs": [
    {
     "output_type": "execute_result",
     "data": {
      "text/plain": "            From_To  FlightNumber  RecentDelays              Airline\n0      LoNDon_paris       10045.0      [23, 47]               KLM(!)\n1      MAdrid_miLAN           NaN            []    &lt;Air France&gt; (12)\n2  londON_StockhOlm       10065.0  [24, 43, 87]  (British Airways. )\n3    Budapest_PaRis           NaN          [13]       12. Air France\n4   Brussels_londOn       10085.0      [67, 32]          &quot;Swiss Air&quot;",
      "text/html": "<div>\n<style scoped>\n    .dataframe tbody tr th:only-of-type {\n        vertical-align: middle;\n    }\n\n    .dataframe tbody tr th {\n        vertical-align: top;\n    }\n\n    .dataframe thead th {\n        text-align: right;\n    }\n</style>\n<table border=\"1\" class=\"dataframe\">\n  <thead>\n    <tr style=\"text-align: right;\">\n      <th></th>\n      <th>From_To</th>\n      <th>FlightNumber</th>\n      <th>RecentDelays</th>\n      <th>Airline</th>\n    </tr>\n  </thead>\n  <tbody>\n    <tr>\n      <th>0</th>\n      <td>LoNDon_paris</td>\n      <td>10045.0</td>\n      <td>[23, 47]</td>\n      <td>KLM(!)</td>\n    </tr>\n    <tr>\n      <th>1</th>\n      <td>MAdrid_miLAN</td>\n      <td>NaN</td>\n      <td>[]</td>\n      <td>&lt;Air France&gt; (12)</td>\n    </tr>\n    <tr>\n      <th>2</th>\n      <td>londON_StockhOlm</td>\n      <td>10065.0</td>\n      <td>[24, 43, 87]</td>\n      <td>(British Airways. )</td>\n    </tr>\n    <tr>\n      <th>3</th>\n      <td>Budapest_PaRis</td>\n      <td>NaN</td>\n      <td>[13]</td>\n      <td>12. Air France</td>\n    </tr>\n    <tr>\n      <th>4</th>\n      <td>Brussels_londOn</td>\n      <td>10085.0</td>\n      <td>[67, 32]</td>\n      <td>\"Swiss Air\"</td>\n    </tr>\n  </tbody>\n</table>\n</div>"
     },
     "metadata": {},
     "execution_count": 2
    }
   ],
   "source": [
    "df = pd.DataFrame({'From_To': ['LoNDon_paris', 'MAdrid_miLAN',\n",
    "'londON_StockhOlm',\n",
    "'Budapest_PaRis', 'Brussels_londOn'],\n",
    "'FlightNumber': [10045, np.nan, 10065, np.nan, 10085],\n",
    "'RecentDelays': [[23, 47], [], [24, 43, 87], [13], [67, 32]],\n",
    "'Airline': ['KLM(!)', '<Air France> (12)', '(British Airways. )',\n",
    "'12. Air France', '\"Swiss Air\"']})\n",
    "\n",
    "df"
   ]
  },
  {
   "cell_type": "markdown",
   "metadata": {
    "tags": []
   },
   "source": [
    "1. Some values in the the FlightNumber column are missing. These numbers are\n",
    "meant to increase by 10 with each row so 10055 and 10075 need to be put in\n",
    "place. Fill in these missing numbers and make the column an integer column\n",
    "(instead of a float column)."
   ]
  },
  {
   "cell_type": "code",
   "execution_count": 3,
   "metadata": {},
   "outputs": [
    {
     "output_type": "execute_result",
     "data": {
      "text/plain": "            From_To  FlightNumber  RecentDelays              Airline\n1      LoNDon_paris       10045.0      [23, 47]               KLM(!)\n2      MAdrid_miLAN           NaN            []    &lt;Air France&gt; (12)\n3  londON_StockhOlm       10065.0  [24, 43, 87]  (British Airways. )\n4    Budapest_PaRis           NaN          [13]       12. Air France\n5   Brussels_londOn       10085.0      [67, 32]          &quot;Swiss Air&quot;",
      "text/html": "<div>\n<style scoped>\n    .dataframe tbody tr th:only-of-type {\n        vertical-align: middle;\n    }\n\n    .dataframe tbody tr th {\n        vertical-align: top;\n    }\n\n    .dataframe thead th {\n        text-align: right;\n    }\n</style>\n<table border=\"1\" class=\"dataframe\">\n  <thead>\n    <tr style=\"text-align: right;\">\n      <th></th>\n      <th>From_To</th>\n      <th>FlightNumber</th>\n      <th>RecentDelays</th>\n      <th>Airline</th>\n    </tr>\n  </thead>\n  <tbody>\n    <tr>\n      <th>1</th>\n      <td>LoNDon_paris</td>\n      <td>10045.0</td>\n      <td>[23, 47]</td>\n      <td>KLM(!)</td>\n    </tr>\n    <tr>\n      <th>2</th>\n      <td>MAdrid_miLAN</td>\n      <td>NaN</td>\n      <td>[]</td>\n      <td>&lt;Air France&gt; (12)</td>\n    </tr>\n    <tr>\n      <th>3</th>\n      <td>londON_StockhOlm</td>\n      <td>10065.0</td>\n      <td>[24, 43, 87]</td>\n      <td>(British Airways. )</td>\n    </tr>\n    <tr>\n      <th>4</th>\n      <td>Budapest_PaRis</td>\n      <td>NaN</td>\n      <td>[13]</td>\n      <td>12. Air France</td>\n    </tr>\n    <tr>\n      <th>5</th>\n      <td>Brussels_londOn</td>\n      <td>10085.0</td>\n      <td>[67, 32]</td>\n      <td>\"Swiss Air\"</td>\n    </tr>\n  </tbody>\n</table>\n</div>"
     },
     "metadata": {},
     "execution_count": 3
    }
   ],
   "source": [
    "newindex = np.arange(1, len(df['FlightNumber'])+1)\n",
    "df.set_index(newindex, inplace=True)\n",
    "df"
   ]
  },
  {
   "cell_type": "code",
   "execution_count": 4,
   "metadata": {
    "tags": []
   },
   "outputs": [
    {
     "output_type": "execute_result",
     "data": {
      "text/plain": "            From_To  FlightNumber  RecentDelays              Airline\n1      LoNDon_paris       10045.0      [23, 47]               KLM(!)\n2      MAdrid_miLAN       10055.0            []    &lt;Air France&gt; (12)\n3  londON_StockhOlm       10065.0  [24, 43, 87]  (British Airways. )\n4    Budapest_PaRis       10075.0          [13]       12. Air France\n5   Brussels_londOn       10085.0      [67, 32]          &quot;Swiss Air&quot;",
      "text/html": "<div>\n<style scoped>\n    .dataframe tbody tr th:only-of-type {\n        vertical-align: middle;\n    }\n\n    .dataframe tbody tr th {\n        vertical-align: top;\n    }\n\n    .dataframe thead th {\n        text-align: right;\n    }\n</style>\n<table border=\"1\" class=\"dataframe\">\n  <thead>\n    <tr style=\"text-align: right;\">\n      <th></th>\n      <th>From_To</th>\n      <th>FlightNumber</th>\n      <th>RecentDelays</th>\n      <th>Airline</th>\n    </tr>\n  </thead>\n  <tbody>\n    <tr>\n      <th>1</th>\n      <td>LoNDon_paris</td>\n      <td>10045.0</td>\n      <td>[23, 47]</td>\n      <td>KLM(!)</td>\n    </tr>\n    <tr>\n      <th>2</th>\n      <td>MAdrid_miLAN</td>\n      <td>10055.0</td>\n      <td>[]</td>\n      <td>&lt;Air France&gt; (12)</td>\n    </tr>\n    <tr>\n      <th>3</th>\n      <td>londON_StockhOlm</td>\n      <td>10065.0</td>\n      <td>[24, 43, 87]</td>\n      <td>(British Airways. )</td>\n    </tr>\n    <tr>\n      <th>4</th>\n      <td>Budapest_PaRis</td>\n      <td>10075.0</td>\n      <td>[13]</td>\n      <td>12. Air France</td>\n    </tr>\n    <tr>\n      <th>5</th>\n      <td>Brussels_londOn</td>\n      <td>10085.0</td>\n      <td>[67, 32]</td>\n      <td>\"Swiss Air\"</td>\n    </tr>\n  </tbody>\n</table>\n</div>"
     },
     "metadata": {},
     "execution_count": 4
    }
   ],
   "source": [
    "for i in newindex:\n",
    "    if pd.isnull(df.FlightNumber.loc[i]):\n",
    "        df.loc[i,'FlightNumber'] = df.loc[i-1,'FlightNumber'] +10\n",
    "df"
   ]
  },
  {
   "cell_type": "code",
   "execution_count": 5,
   "metadata": {},
   "outputs": [
    {
     "output_type": "execute_result",
     "data": {
      "text/plain": "1    10045\n2    10055\n3    10065\n4    10075\n5    10085\nName: FlightNumber, dtype: int64"
     },
     "metadata": {},
     "execution_count": 5
    }
   ],
   "source": [
    "df['FlightNumber'].astype(int)\n"
   ]
  },
  {
   "cell_type": "markdown",
   "metadata": {},
   "source": [
    "2. The From_To column would be better as two separate columns! Split each\n",
    "string on the underscore delimiter _ to give a new temporary DataFrame with\n",
    "the correct values. Assign the correct column names to this temporary\n",
    "DataFrame."
   ]
  },
  {
   "cell_type": "code",
   "execution_count": 6,
   "metadata": {},
   "outputs": [
    {
     "output_type": "execute_result",
     "data": {
      "text/plain": "       From         To\n1    LoNDon      paris\n2    MAdrid      miLAN\n3    londON  StockhOlm\n4  Budapest      PaRis\n5  Brussels     londOn",
      "text/html": "<div>\n<style scoped>\n    .dataframe tbody tr th:only-of-type {\n        vertical-align: middle;\n    }\n\n    .dataframe tbody tr th {\n        vertical-align: top;\n    }\n\n    .dataframe thead th {\n        text-align: right;\n    }\n</style>\n<table border=\"1\" class=\"dataframe\">\n  <thead>\n    <tr style=\"text-align: right;\">\n      <th></th>\n      <th>From</th>\n      <th>To</th>\n    </tr>\n  </thead>\n  <tbody>\n    <tr>\n      <th>1</th>\n      <td>LoNDon</td>\n      <td>paris</td>\n    </tr>\n    <tr>\n      <th>2</th>\n      <td>MAdrid</td>\n      <td>miLAN</td>\n    </tr>\n    <tr>\n      <th>3</th>\n      <td>londON</td>\n      <td>StockhOlm</td>\n    </tr>\n    <tr>\n      <th>4</th>\n      <td>Budapest</td>\n      <td>PaRis</td>\n    </tr>\n    <tr>\n      <th>5</th>\n      <td>Brussels</td>\n      <td>londOn</td>\n    </tr>\n  </tbody>\n</table>\n</div>"
     },
     "metadata": {},
     "execution_count": 6
    }
   ],
   "source": [
    "newdf = pd.DataFrame()\n",
    "newdf[['From','To']] = df.From_To.str.split('_', expand=True)\n",
    "newdf"
   ]
  },
  {
   "cell_type": "markdown",
   "metadata": {},
   "source": [
    "3. Notice how the capitalisation of the city names is all mixed up in this\n",
    "temporary DataFrame. Standardise the strings so that only the first letter is\n",
    "uppercase (e.g. \"londON\" should become \"London\".)"
   ]
  },
  {
   "cell_type": "code",
   "execution_count": 7,
   "metadata": {},
   "outputs": [
    {
     "output_type": "execute_result",
     "data": {
      "text/plain": "       From         To\n1    London      Paris\n2    Madrid      Milan\n3    London  Stockholm\n4  Budapest      Paris\n5  Brussels     London",
      "text/html": "<div>\n<style scoped>\n    .dataframe tbody tr th:only-of-type {\n        vertical-align: middle;\n    }\n\n    .dataframe tbody tr th {\n        vertical-align: top;\n    }\n\n    .dataframe thead th {\n        text-align: right;\n    }\n</style>\n<table border=\"1\" class=\"dataframe\">\n  <thead>\n    <tr style=\"text-align: right;\">\n      <th></th>\n      <th>From</th>\n      <th>To</th>\n    </tr>\n  </thead>\n  <tbody>\n    <tr>\n      <th>1</th>\n      <td>London</td>\n      <td>Paris</td>\n    </tr>\n    <tr>\n      <th>2</th>\n      <td>Madrid</td>\n      <td>Milan</td>\n    </tr>\n    <tr>\n      <th>3</th>\n      <td>London</td>\n      <td>Stockholm</td>\n    </tr>\n    <tr>\n      <th>4</th>\n      <td>Budapest</td>\n      <td>Paris</td>\n    </tr>\n    <tr>\n      <th>5</th>\n      <td>Brussels</td>\n      <td>London</td>\n    </tr>\n  </tbody>\n</table>\n</div>"
     },
     "metadata": {},
     "execution_count": 7
    }
   ],
   "source": [
    "newdf.From = newdf.From.str.capitalize()\n",
    "newdf.To = newdf.To.str.capitalize()\n",
    "newdf"
   ]
  },
  {
   "cell_type": "markdown",
   "metadata": {},
   "source": [
    "4. Delete the From_To column from df and attach the temporary DataFrame\n",
    "from the previous questions."
   ]
  },
  {
   "cell_type": "code",
   "execution_count": 8,
   "metadata": {},
   "outputs": [
    {
     "output_type": "execute_result",
     "data": {
      "text/plain": "       From         To  FlightNumber  RecentDelays              Airline\n1    London      Paris       10045.0      [23, 47]               KLM(!)\n2    Madrid      Milan       10055.0            []    &lt;Air France&gt; (12)\n3    London  Stockholm       10065.0  [24, 43, 87]  (British Airways. )\n4  Budapest      Paris       10075.0          [13]       12. Air France\n5  Brussels     London       10085.0      [67, 32]          &quot;Swiss Air&quot;",
      "text/html": "<div>\n<style scoped>\n    .dataframe tbody tr th:only-of-type {\n        vertical-align: middle;\n    }\n\n    .dataframe tbody tr th {\n        vertical-align: top;\n    }\n\n    .dataframe thead th {\n        text-align: right;\n    }\n</style>\n<table border=\"1\" class=\"dataframe\">\n  <thead>\n    <tr style=\"text-align: right;\">\n      <th></th>\n      <th>From</th>\n      <th>To</th>\n      <th>FlightNumber</th>\n      <th>RecentDelays</th>\n      <th>Airline</th>\n    </tr>\n  </thead>\n  <tbody>\n    <tr>\n      <th>1</th>\n      <td>London</td>\n      <td>Paris</td>\n      <td>10045.0</td>\n      <td>[23, 47]</td>\n      <td>KLM(!)</td>\n    </tr>\n    <tr>\n      <th>2</th>\n      <td>Madrid</td>\n      <td>Milan</td>\n      <td>10055.0</td>\n      <td>[]</td>\n      <td>&lt;Air France&gt; (12)</td>\n    </tr>\n    <tr>\n      <th>3</th>\n      <td>London</td>\n      <td>Stockholm</td>\n      <td>10065.0</td>\n      <td>[24, 43, 87]</td>\n      <td>(British Airways. )</td>\n    </tr>\n    <tr>\n      <th>4</th>\n      <td>Budapest</td>\n      <td>Paris</td>\n      <td>10075.0</td>\n      <td>[13]</td>\n      <td>12. Air France</td>\n    </tr>\n    <tr>\n      <th>5</th>\n      <td>Brussels</td>\n      <td>London</td>\n      <td>10085.0</td>\n      <td>[67, 32]</td>\n      <td>\"Swiss Air\"</td>\n    </tr>\n  </tbody>\n</table>\n</div>"
     },
     "metadata": {},
     "execution_count": 8
    }
   ],
   "source": [
    "df = df.drop('From_To', axis=1)\n",
    "result = pd.concat([newdf,df],axis=1)\n",
    "result"
   ]
  },
  {
   "cell_type": "markdown",
   "metadata": {},
   "source": [
    "5. In the RecentDelays column, the values have been entered into the\n",
    "DataFrame as a list. We would like each first value in its own column, each"
   ]
  },
  {
   "cell_type": "code",
   "execution_count": 9,
   "metadata": {},
   "outputs": [
    {
     "output_type": "execute_result",
     "data": {
      "text/plain": "       From         To  FlightNumber              Airline  (Delay1,)  \\\n1    London      Paris       10045.0               KLM(!)       23.0   \n2    Madrid      Milan       10055.0    &lt;Air France&gt; (12)        NaN   \n3    London  Stockholm       10065.0  (British Airways. )       24.0   \n4  Budapest      Paris       10075.0       12. Air France       13.0   \n5  Brussels     London       10085.0          &quot;Swiss Air&quot;       67.0   \n\n   (Delay2,)  (Delay3,)  \n1       47.0        NaN  \n2        NaN        NaN  \n3       43.0       87.0  \n4        NaN        NaN  \n5       32.0        NaN  ",
      "text/html": "<div>\n<style scoped>\n    .dataframe tbody tr th:only-of-type {\n        vertical-align: middle;\n    }\n\n    .dataframe tbody tr th {\n        vertical-align: top;\n    }\n\n    .dataframe thead th {\n        text-align: right;\n    }\n</style>\n<table border=\"1\" class=\"dataframe\">\n  <thead>\n    <tr style=\"text-align: right;\">\n      <th></th>\n      <th>From</th>\n      <th>To</th>\n      <th>FlightNumber</th>\n      <th>Airline</th>\n      <th>(Delay1,)</th>\n      <th>(Delay2,)</th>\n      <th>(Delay3,)</th>\n    </tr>\n  </thead>\n  <tbody>\n    <tr>\n      <th>1</th>\n      <td>London</td>\n      <td>Paris</td>\n      <td>10045.0</td>\n      <td>KLM(!)</td>\n      <td>23.0</td>\n      <td>47.0</td>\n      <td>NaN</td>\n    </tr>\n    <tr>\n      <th>2</th>\n      <td>Madrid</td>\n      <td>Milan</td>\n      <td>10055.0</td>\n      <td>&lt;Air France&gt; (12)</td>\n      <td>NaN</td>\n      <td>NaN</td>\n      <td>NaN</td>\n    </tr>\n    <tr>\n      <th>3</th>\n      <td>London</td>\n      <td>Stockholm</td>\n      <td>10065.0</td>\n      <td>(British Airways. )</td>\n      <td>24.0</td>\n      <td>43.0</td>\n      <td>87.0</td>\n    </tr>\n    <tr>\n      <th>4</th>\n      <td>Budapest</td>\n      <td>Paris</td>\n      <td>10075.0</td>\n      <td>12. Air France</td>\n      <td>13.0</td>\n      <td>NaN</td>\n      <td>NaN</td>\n    </tr>\n    <tr>\n      <th>5</th>\n      <td>Brussels</td>\n      <td>London</td>\n      <td>10085.0</td>\n      <td>\"Swiss Air\"</td>\n      <td>67.0</td>\n      <td>32.0</td>\n      <td>NaN</td>\n    </tr>\n  </tbody>\n</table>\n</div>"
     },
     "metadata": {},
     "execution_count": 9
    }
   ],
   "source": [
    "result = result.drop('RecentDelays',axis=1)\n",
    "\n",
    "delays = pd.DataFrame(df['RecentDelays'].values.tolist(),columns=[['Delay1','Delay2','Delay3']])\n",
    "delays = delays.set_index(newindex)\n",
    "df = pd.concat([result,delays],axis=1)\n",
    "df"
   ]
  }
 ],
 "metadata": {
  "kernelspec": {
   "display_name": "Python 3",
   "language": "python",
   "name": "python3"
  },
  "language_info": {
   "codemirror_mode": {
    "name": "ipython",
    "version": 3
   },
   "file_extension": ".py",
   "mimetype": "text/x-python",
   "name": "python",
   "nbconvert_exporter": "python",
   "pygments_lexer": "ipython3",
   "version": "3.8.3-final"
  }
 },
 "nbformat": 4,
 "nbformat_minor": 2
}